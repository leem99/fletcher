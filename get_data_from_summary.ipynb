{
 "cells": [
  {
   "cell_type": "code",
   "execution_count": 22,
   "metadata": {},
   "outputs": [],
   "source": [
    "import os\n",
    "import numpy as np\n",
    "import pandas as pd\n",
    "\n",
    "\n",
    "from bs4 import BeautifulSoup\n",
    "import re\n",
    "from collections import OrderedDict\n",
    "\n",
    "pd.set_option(\"display.max_columns\", None)\n",
    "pd.set_option('display.max_colwidth', 2000)"
   ]
  },
  {
   "cell_type": "code",
   "execution_count": 2,
   "metadata": {},
   "outputs": [
    {
     "data": {
      "text/plain": [
       "'.DS_Store'"
      ]
     },
     "execution_count": 2,
     "metadata": {},
     "output_type": "execute_result"
    }
   ],
   "source": [
    "law_sum_dir = 'law_summaries/'\n",
    "law_summaries_html = os.listdir(law_sum_dir)\n",
    "law_summaries_html.sort()\n",
    "law_summaries_html.pop(0)"
   ]
  },
  {
   "cell_type": "code",
   "execution_count": 3,
   "metadata": {},
   "outputs": [
    {
     "name": "stdout",
     "output_type": "stream",
     "text": [
      "0\n",
      "100\n",
      "200\n",
      "300\n",
      "400\n",
      "500\n",
      "600\n",
      "700\n",
      "800\n",
      "900\n",
      "1000\n",
      "1100\n",
      "1200\n",
      "1300\n",
      "1400\n",
      "1500\n",
      "1600\n",
      "1700\n",
      "1800\n",
      "1900\n",
      "2000\n",
      "2100\n",
      "2200\n",
      "2300\n",
      "2400\n",
      "2500\n",
      "2600\n",
      "2700\n",
      "2800\n",
      "2900\n",
      "3000\n",
      "3100\n",
      "3200\n",
      "3300\n",
      "3400\n",
      "3500\n",
      "3600\n",
      "3700\n",
      "3800\n",
      "3900\n",
      "4000\n",
      "4100\n",
      "4200\n",
      "4300\n",
      "4400\n"
     ]
    }
   ],
   "source": [
    "law_list = []\n",
    "\n",
    "for ix, fname in enumerate(law_summaries_html):\n",
    "    \n",
    "    html_f = open(law_sum_dir + fname,'r')\n",
    "    page = html_f.read()\n",
    "    summary_soup = BeautifulSoup(page,\"lxml\")\n",
    "    \n",
    "    \n",
    "    temp_law_dict = dict()\n",
    "\n",
    "    # Get Bill Full Nama and title\n",
    "    title = summary_soup.find('h1',class_ = 'legDetail').text.strip().replace('\\n',' ')\n",
    "    bill_num = title.split('-')[0]\n",
    "\n",
    "\n",
    "    # Find Congress and Law\n",
    "    \n",
    "    summary_table = summary_soup.find('table')\n",
    "    \n",
    "    \n",
    "    for jx, td in enumerate(summary_table.find_all('td')):\n",
    "            if 'Became Public Law' in td.text:\n",
    "                    #law_num = td.text.split('Became Public Law No: ')[1].split('-')[1].split('.')[0]\n",
    "                    temp_split = td.text.split('Became Public Law No: ')[1]\n",
    "                    temp_split = re.split(r'[\\-]|[\\.]',temp_split)\n",
    "                    congress = temp_split[0]\n",
    "                    law = temp_split[1]\n",
    "\n",
    "\n",
    "    ths = summary_table.find_all('th')                \n",
    "    # Find Sponsor and Committee\n",
    "    \n",
    "    committee_found = 0 \n",
    "    for th in ths:\n",
    "        if 'Sponsor' in th.text:\n",
    "            \n",
    "            try:\n",
    "                sponsor = th.next_sibling.next_sibling.find('a').text\n",
    "            except AttributeError:\n",
    "                sponsor = 'None'\n",
    "                sponsor_party = 'None'\n",
    "                sponsor_state = 'None'\n",
    "            else:\n",
    "                sponsor = sponsor.replace('\\n','').strip()\n",
    "                sponsor_info = sponsor.split('[', 1)[1].split(']')[0]\n",
    "                sponsor_info = sponsor_info.split('-')\n",
    "                sponsor_party = sponsor_info[0]\n",
    "                sponsor_state = sponsor_info[1]\n",
    "\n",
    "        if ('Committee' in th.text) and ('Report' not in th.text):\n",
    "            committee_found = 1 \n",
    "            committee = th.next_sibling.next_sibling.text\n",
    "            committee = committee.replace('\\n','').strip()\n",
    "    \n",
    "    if committee_found == 0:\n",
    "        committee = 'none'\n",
    "\n",
    "    temp_law_dict['id'] = fname.replace('.html','')\n",
    "    temp_law_dict['congress'] = congress\n",
    "    temp_law_dict['law'] = law\n",
    "    temp_law_dict['title'] = title\n",
    "    temp_law_dict['bill_num'] = bill_num\n",
    "    temp_law_dict['sponsor'] = sponsor\n",
    "    temp_law_dict['sponsor_party'] = sponsor_party\n",
    "    temp_law_dict['sponsor_state'] = sponsor_state\n",
    "    temp_law_dict['committee'] = committee\n",
    "    temp_law_dict['url'] = summary_soup.find('a',text=re.compile('Text'))['href']\n",
    "\n",
    "    law_list.append(temp_law_dict)\n",
    "    \n",
    "    if ix % 100 == 0:\n",
    "        print(ix)"
   ]
  },
  {
   "cell_type": "code",
   "execution_count": 5,
   "metadata": {
    "collapsed": true
   },
   "outputs": [],
   "source": [
    "df = pd.DataFrame(law_list)"
   ]
  },
  {
   "cell_type": "code",
   "execution_count": 24,
   "metadata": {},
   "outputs": [
    {
     "data": {
      "text/html": [
       "<div>\n",
       "<style>\n",
       "    .dataframe thead tr:only-child th {\n",
       "        text-align: right;\n",
       "    }\n",
       "\n",
       "    .dataframe thead th {\n",
       "        text-align: left;\n",
       "    }\n",
       "\n",
       "    .dataframe tbody tr th {\n",
       "        vertical-align: top;\n",
       "    }\n",
       "</style>\n",
       "<table border=\"1\" class=\"dataframe\">\n",
       "  <thead>\n",
       "    <tr style=\"text-align: right;\">\n",
       "      <th></th>\n",
       "      <th>title</th>\n",
       "      <th>url</th>\n",
       "    </tr>\n",
       "  </thead>\n",
       "  <tbody>\n",
       "    <tr>\n",
       "      <th>3824</th>\n",
       "      <td>H.R.2291 - To designate the facility of the United States Postal Service located at 450 Lexington Avenue in New York, New York, as the \"Vincent R. Sombrotto Post Office\".                 113th Congress (2013-2014)</td>\n",
       "      <td>https://www.congress.gov/bill/113th-congress/house-bill/2291/text</td>\n",
       "    </tr>\n",
       "    <tr>\n",
       "      <th>892</th>\n",
       "      <td>H.R.3544 - Pope John Paul II Congressional Gold Medal Act                 106th Congress (1999-2000)</td>\n",
       "      <td>https://www.congress.gov/bill/106th-congress/house-bill/3544/text</td>\n",
       "    </tr>\n",
       "    <tr>\n",
       "      <th>451</th>\n",
       "      <td>H.R.1273 - National Science Foundation Authorization Act of 1998                 105th Congress (1997-1998)</td>\n",
       "      <td>https://www.congress.gov/bill/105th-congress/house-bill/1273/text</td>\n",
       "    </tr>\n",
       "    <tr>\n",
       "      <th>3106</th>\n",
       "      <td>H.R.2587 - A Bill to designate the facility of the United States Postal Service located at 555 South 3rd Street Lobby in Memphis, Tennessee, as the \"Kenneth T. Whalum, Sr. Post Office Building\".                 110th Congress (2007-2008)</td>\n",
       "      <td>https://www.congress.gov/bill/110th-congress/house-bill/2587/text</td>\n",
       "    </tr>\n",
       "    <tr>\n",
       "      <th>3010</th>\n",
       "      <td>H.R.6353 - Ryan Haight Online Pharmacy Consumer Protection Act of 2008                 110th Congress (2007-2008)</td>\n",
       "      <td>https://www.congress.gov/bill/110th-congress/house-bill/6353/text</td>\n",
       "    </tr>\n",
       "  </tbody>\n",
       "</table>\n",
       "</div>"
      ],
      "text/plain": [
       "                                                                                                                                                                                                                                              title                                                                url\n",
       "3824                          H.R.2291 - To designate the facility of the United States Postal Service located at 450 Lexington Avenue in New York, New York, as the \"Vincent R. Sombrotto Post Office\".                 113th Congress (2013-2014)  https://www.congress.gov/bill/113th-congress/house-bill/2291/text\n",
       "892                                                                                                                                            H.R.3544 - Pope John Paul II Congressional Gold Medal Act                 106th Congress (1999-2000)  https://www.congress.gov/bill/106th-congress/house-bill/3544/text\n",
       "451                                                                                                                                     H.R.1273 - National Science Foundation Authorization Act of 1998                 105th Congress (1997-1998)  https://www.congress.gov/bill/105th-congress/house-bill/1273/text\n",
       "3106  H.R.2587 - A Bill to designate the facility of the United States Postal Service located at 555 South 3rd Street Lobby in Memphis, Tennessee, as the \"Kenneth T. Whalum, Sr. Post Office Building\".                 110th Congress (2007-2008)  https://www.congress.gov/bill/110th-congress/house-bill/2587/text\n",
       "3010                                                                                                                              H.R.6353 - Ryan Haight Online Pharmacy Consumer Protection Act of 2008                 110th Congress (2007-2008)  https://www.congress.gov/bill/110th-congress/house-bill/6353/text"
      ]
     },
     "execution_count": 24,
     "metadata": {},
     "output_type": "execute_result"
    }
   ],
   "source": [
    "df.loc[np.random.choice(np.array(range(0,np.shape(law_list)[0])),size = 5),['title','url']]"
   ]
  },
  {
   "cell_type": "code",
   "execution_count": 25,
   "metadata": {
    "collapsed": true
   },
   "outputs": [],
   "source": [
    "df.to_csv('laws_summary.csv',index = False)"
   ]
  },
  {
   "cell_type": "code",
   "execution_count": null,
   "metadata": {
    "collapsed": true
   },
   "outputs": [],
   "source": []
  },
  {
   "cell_type": "code",
   "execution_count": null,
   "metadata": {
    "collapsed": true
   },
   "outputs": [],
   "source": []
  }
 ],
 "metadata": {
  "kernelspec": {
   "display_name": "Python 3",
   "language": "python",
   "name": "python3"
  },
  "language_info": {
   "codemirror_mode": {
    "name": "ipython",
    "version": 3
   },
   "file_extension": ".py",
   "mimetype": "text/x-python",
   "name": "python",
   "nbconvert_exporter": "python",
   "pygments_lexer": "ipython3",
   "version": "3.6.1"
  }
 },
 "nbformat": 4,
 "nbformat_minor": 2
}
