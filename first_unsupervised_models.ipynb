{
 "cells": [
  {
   "cell_type": "markdown",
   "metadata": {},
   "source": [
    "### Unsupervised Analysis of Congressional Laws"
   ]
  },
  {
   "cell_type": "code",
   "execution_count": 231,
   "metadata": {
    "collapsed": true
   },
   "outputs": [],
   "source": [
    "import numpy as np\n",
    "import pandas as pd\n",
    "\n",
    "\n",
    "#gensim\n",
    "from gensim import corpora, models, similarities, matutils\n",
    "\n",
    "#sklearn\n",
    "from sklearn.feature_extraction.text import (CountVectorizer, \n",
    "                                             TfidfTransformer,\n",
    "                                             TfidfVectorizer)\n",
    "from sklearn.cluster import KMeans\n",
    "from sklearn.decomposition import NMF\n",
    "from sklearn.preprocessing import Normalizer"
   ]
  },
  {
   "cell_type": "markdown",
   "metadata": {},
   "source": [
    "__Import data__"
   ]
  },
  {
   "cell_type": "code",
   "execution_count": 232,
   "metadata": {
    "collapsed": true
   },
   "outputs": [],
   "source": [
    "laws_df = pd.read_csv('all_laws.csv',index_col=0)"
   ]
  },
  {
   "cell_type": "code",
   "execution_count": 233,
   "metadata": {
    "collapsed": true
   },
   "outputs": [],
   "source": [
    "laws_names = list(laws_df.index)\n",
    "laws_list = laws_df['text'].tolist()"
   ]
  },
  {
   "cell_type": "markdown",
   "metadata": {},
   "source": [
    "__Import Law Summary Data__"
   ]
  },
  {
   "cell_type": "code",
   "execution_count": 234,
   "metadata": {
    "collapsed": true
   },
   "outputs": [],
   "source": [
    "laws_summarys = pd.read_csv('laws_summary.csv')"
   ]
  },
  {
   "cell_type": "markdown",
   "metadata": {},
   "source": [
    "__Count Vectorizer__"
   ]
  },
  {
   "cell_type": "code",
   "execution_count": 235,
   "metadata": {},
   "outputs": [
    {
     "data": {
      "text/plain": [
       "CountVectorizer(analyzer='word', binary=False, decode_error='strict',\n",
       "        dtype=<class 'numpy.int64'>, encoding='utf-8', input='content',\n",
       "        lowercase=True, max_df=0.8, max_features=None, min_df=50,\n",
       "        ngram_range=(0, 2), preprocessor=None, stop_words='english',\n",
       "        strip_accents=None, token_pattern='\\\\b[a-z][a-z]{3,100}\\\\b',\n",
       "        tokenizer=None, vocabulary=None)"
      ]
     },
     "execution_count": 235,
     "metadata": {},
     "output_type": "execute_result"
    }
   ],
   "source": [
    "count_vectorizer = CountVectorizer(ngram_range=(0, 2),  \n",
    "                                   stop_words='english', \n",
    "                                   token_pattern=\"\\\\b[a-z][a-z]{3,100}\\\\b\",\n",
    "                                   max_df=0.8,\n",
    "                                   min_df = 50)\n",
    "count_vectorizer.fit(laws_list)\n",
    "\n"
   ]
  },
  {
   "cell_type": "code",
   "execution_count": 236,
   "metadata": {
    "collapsed": true
   },
   "outputs": [],
   "source": [
    "# Create the term-document matrix\n",
    "# Transpose it so the terms are the rows\n",
    "counts = count_vectorizer.transform(laws_list).transpose()"
   ]
  },
  {
   "cell_type": "code",
   "execution_count": 237,
   "metadata": {},
   "outputs": [
    {
     "data": {
      "text/plain": [
       "(17274, 3896)"
      ]
     },
     "execution_count": 237,
     "metadata": {},
     "output_type": "execute_result"
    }
   ],
   "source": [
    "np.shape(counts)"
   ]
  },
  {
   "cell_type": "markdown",
   "metadata": {},
   "source": [
    "__Convert to gensim__\n",
    "\n",
    "We need to convert our sparse `scipy` matrix to a `gensim`-friendly object called a Corpus:"
   ]
  },
  {
   "cell_type": "code",
   "execution_count": 238,
   "metadata": {
    "collapsed": true
   },
   "outputs": [],
   "source": [
    "# Convert sparse matrix of counts to a gensim corpus\n",
    "corpus = matutils.Sparse2Corpus(counts)"
   ]
  },
  {
   "cell_type": "markdown",
   "metadata": {},
   "source": [
    "__Map matrix rows to words (tokens)__\n",
    "\n",
    "We need to save a mapping (dict) of row id to word (token) for later use by gensim:"
   ]
  },
  {
   "cell_type": "code",
   "execution_count": 239,
   "metadata": {
    "collapsed": true
   },
   "outputs": [],
   "source": [
    "id2word = dict((v, k) for k, v in count_vectorizer.vocabulary_.items())"
   ]
  },
  {
   "cell_type": "code",
   "execution_count": 240,
   "metadata": {},
   "outputs": [
    {
     "data": {
      "text/plain": [
       "17274"
      ]
     },
     "execution_count": 240,
     "metadata": {},
     "output_type": "execute_result"
    }
   ],
   "source": [
    "len(id2word)"
   ]
  },
  {
   "cell_type": "markdown",
   "metadata": {},
   "source": [
    "## LDA\n",
    "At this point we can simply plow ahead in creating an LDA model.  It requires our corpus of word counts, mapping of row ids to words, and the number of topics (3)."
   ]
  },
  {
   "cell_type": "code",
   "execution_count": 241,
   "metadata": {
    "collapsed": true
   },
   "outputs": [],
   "source": [
    "# Create lda model (equivalent to \"fit\" in sklearn)\n",
    "lda = models.LdaModel(corpus=corpus, num_topics=5, id2word=id2word, passes=3)"
   ]
  },
  {
   "cell_type": "code",
   "execution_count": 242,
   "metadata": {},
   "outputs": [
    {
     "data": {
      "text/plain": [
       "[(0,\n",
       "  '0.009*\"state\" + 0.008*\"secretary\" + 0.007*\"subsection\" + 0.006*\"federal\" + 0.006*\"paragraph\" + 0.005*\"agency\" + 0.005*\"title\" + 0.005*\"general\" + 0.004*\"inserting\" + 0.004*\"information\" + 0.004*\"including\" + 0.004*\"program\" + 0.004*\"education\" + 0.004*\"striking\" + 0.004*\"services\" + 0.004*\"local\" + 0.004*\"described\" + 0.003*\"term\" + 0.003*\"year\" + 0.003*\"programs\" + 0.003*\"national\" + 0.003*\"activities\" + 0.003*\"commission\" + 0.003*\"subparagraph\" + 0.003*\"following\" + 0.003*\"date\" + 0.003*\"provide\" + 0.003*\"amended\" + 0.003*\"educational\" + 0.003*\"funds\" + 0.003*\"appropriate\" + 0.003*\"fiscal\" + 0.003*\"assistance\" + 0.003*\"grant\" + 0.002*\"eligible\" + 0.002*\"means\" + 0.002*\"service\" + 0.002*\"report\" + 0.002*\"financial\" + 0.002*\"provided\" + 0.002*\"plan\" + 0.002*\"requirements\" + 0.002*\"board\" + 0.002*\"school\" + 0.002*\"agencies\" + 0.002*\"secretary shall\" + 0.002*\"entity\" + 0.002*\"children\" + 0.002*\"fiscal year\" + 0.002*\"based\"'),\n",
       " (1,\n",
       "  '0.013*\"defense\" + 0.010*\"secretary\" + 0.009*\"subsection\" + 0.007*\"title\" + 0.006*\"department\" + 0.006*\"report\" + 0.006*\"program\" + 0.006*\"military\" + 0.005*\"national\" + 0.005*\"year\" + 0.005*\"paragraph\" + 0.005*\"amended\" + 0.004*\"fiscal\" + 0.004*\"inserting\" + 0.004*\"section title\" + 0.004*\"security\" + 0.004*\"following\" + 0.004*\"fiscal year\" + 0.004*\"striking\" + 0.004*\"department defense\" + 0.004*\"general\" + 0.004*\"code\" + 0.003*\"date\" + 0.003*\"secretary defense\" + 0.003*\"title united\" + 0.003*\"states code\" + 0.003*\"authority\" + 0.003*\"forces\" + 0.003*\"including\" + 0.003*\"support\" + 0.003*\"services\" + 0.003*\"required\" + 0.003*\"armed\" + 0.003*\"force\" + 0.003*\"authorization\" + 0.003*\"information\" + 0.003*\"authorized\" + 0.003*\"army\" + 0.002*\"members\" + 0.002*\"acquisition\" + 0.002*\"activities\" + 0.002*\"intelligence\" + 0.002*\"funds\" + 0.002*\"term\" + 0.002*\"committees\" + 0.002*\"requirements\" + 0.002*\"later\" + 0.002*\"appropriate\" + 0.002*\"construction\" + 0.002*\"provided\"'),\n",
       " (2,\n",
       "  '0.011*\"subsection\" + 0.010*\"paragraph\" + 0.009*\"amended\" + 0.008*\"secretary\" + 0.008*\"inserting\" + 0.007*\"striking\" + 0.007*\"year\" + 0.007*\"health\" + 0.006*\"date\" + 0.006*\"title\" + 0.006*\"subparagraph\" + 0.006*\"following\" + 0.005*\"general\" + 0.004*\"plan\" + 0.004*\"period\" + 0.004*\"services\" + 0.004*\"respect\" + 0.004*\"described\" + 0.004*\"state\" + 0.003*\"code\" + 0.003*\"term\" + 0.003*\"service\" + 0.003*\"individual\" + 0.003*\"purposes\" + 0.003*\"care\" + 0.003*\"program\" + 0.003*\"fiscal\" + 0.003*\"amended striking\" + 0.003*\"information\" + 0.003*\"provided\" + 0.003*\"apply\" + 0.003*\"section amended\" + 0.003*\"case\" + 0.002*\"clause\" + 0.002*\"federal\" + 0.002*\"fiscal year\" + 0.002*\"security\" + 0.002*\"including\" + 0.002*\"drug\" + 0.002*\"relating\" + 0.002*\"effective\" + 0.002*\"payment\" + 0.002*\"report\" + 0.002*\"years\" + 0.002*\"adding\" + 0.002*\"veterans\" + 0.002*\"secretary shall\" + 0.002*\"enactment\" + 0.002*\"amendments\" + 0.002*\"adding following\"'),\n",
       " (3,\n",
       "  '0.014*\"secretary\" + 0.008*\"subsection\" + 0.006*\"inserting\" + 0.006*\"federal\" + 0.006*\"state\" + 0.006*\"paragraph\" + 0.006*\"program\" + 0.006*\"striking\" + 0.005*\"project\" + 0.005*\"title\" + 0.005*\"transportation\" + 0.005*\"amended\" + 0.005*\"year\" + 0.005*\"general\" + 0.004*\"date\" + 0.004*\"secretary shall\" + 0.004*\"fiscal\" + 0.004*\"national\" + 0.004*\"including\" + 0.004*\"following\" + 0.003*\"water\" + 0.003*\"term\" + 0.003*\"land\" + 0.003*\"funds\" + 0.003*\"subparagraph\" + 0.003*\"available\" + 0.003*\"fiscal year\" + 0.003*\"development\" + 0.003*\"energy\" + 0.003*\"period\" + 0.002*\"research\" + 0.002*\"code\" + 0.002*\"report\" + 0.002*\"safety\" + 0.002*\"enactment\" + 0.002*\"assistance\" + 0.002*\"area\" + 0.002*\"means\" + 0.002*\"described\" + 0.002*\"date enactment\" + 0.002*\"projects\" + 0.002*\"years\" + 0.002*\"plan\" + 0.002*\"carry\" + 0.002*\"section title\" + 0.002*\"committee\" + 0.002*\"management\" + 0.002*\"amended striking\" + 0.002*\"authorized\" + 0.002*\"cost\"'),\n",
       " (4,\n",
       "  '0.015*\"provided\" + 0.014*\"available\" + 0.011*\"funds\" + 0.007*\"expenses\" + 0.006*\"secretary\" + 0.005*\"title\" + 0.005*\"appropriations\" + 0.005*\"year\" + 0.005*\"assistance\" + 0.005*\"including\" + 0.005*\"authorized\" + 0.004*\"department\" + 0.004*\"fiscal\" + 0.004*\"federal\" + 0.004*\"program\" + 0.004*\"remain\" + 0.004*\"fiscal year\" + 0.004*\"necessary\" + 0.004*\"appropriated\" + 0.004*\"remain available\" + 0.004*\"fund\" + 0.004*\"shall available\" + 0.004*\"national\" + 0.003*\"activities\" + 0.003*\"used\" + 0.003*\"expended\" + 0.003*\"state\" + 0.003*\"services\" + 0.003*\"development\" + 0.003*\"pursuant\" + 0.003*\"heading\" + 0.003*\"general\" + 0.003*\"service\" + 0.003*\"programs\" + 0.003*\"subsection\" + 0.003*\"funds appropriated\" + 0.003*\"exceed\" + 0.003*\"housing\" + 0.003*\"security\" + 0.003*\"agency\" + 0.003*\"funds available\" + 0.003*\"amounts\" + 0.003*\"committees\" + 0.002*\"available expended\" + 0.002*\"administration\" + 0.002*\"notwithstanding\" + 0.002*\"amended\" + 0.002*\"september\" + 0.002*\"purposes\" + 0.002*\"related\"')]"
      ]
     },
     "execution_count": 242,
     "metadata": {},
     "output_type": "execute_result"
    }
   ],
   "source": [
    "lda.print_topics(num_words=50)"
   ]
  },
  {
   "cell_type": "code",
   "execution_count": 243,
   "metadata": {},
   "outputs": [
    {
     "data": {
      "text/plain": [
       "<gensim.interfaces.TransformedCorpus at 0x7f62c8279b38>"
      ]
     },
     "execution_count": 243,
     "metadata": {},
     "output_type": "execute_result"
    }
   ],
   "source": [
    "# Transform the docs from the word space to the topic space (like \"transform\" in sklearn)\n",
    "lda_corpus = lda[corpus]\n",
    "lda_corpus"
   ]
  },
  {
   "cell_type": "code",
   "execution_count": 244,
   "metadata": {
    "collapsed": true
   },
   "outputs": [],
   "source": [
    "# Store the documents' topic vectors in a list so we can take a peak\n",
    "lda_docs = [doc for doc in lda_corpus]"
   ]
  },
  {
   "cell_type": "code",
   "execution_count": 245,
   "metadata": {},
   "outputs": [
    {
     "data": {
      "text/plain": [
       "3896"
      ]
     },
     "execution_count": 245,
     "metadata": {},
     "output_type": "execute_result"
    }
   ],
   "source": [
    "len(lda_docs)"
   ]
  },
  {
   "cell_type": "code",
   "execution_count": 246,
   "metadata": {},
   "outputs": [
    {
     "data": {
      "text/plain": [
       "[(2, 0.99110745781226373)]"
      ]
     },
     "execution_count": 246,
     "metadata": {},
     "output_type": "execute_result"
    }
   ],
   "source": [
    "lda_docs[900]"
   ]
  },
  {
   "cell_type": "markdown",
   "metadata": {},
   "source": [
    "## NMF"
   ]
  },
  {
   "cell_type": "code",
   "execution_count": 315,
   "metadata": {
    "collapsed": true
   },
   "outputs": [],
   "source": [
    "vectorizer = TfidfVectorizer(ngram_range=(1,2),  \n",
    "                                   stop_words='english', \n",
    "                                   token_pattern=\"\\\\b[a-z][a-z]{3,100}\\\\b\",\n",
    "                                   max_df = 0.80,\n",
    "                                   min_df = 50)"
   ]
  },
  {
   "cell_type": "code",
   "execution_count": 316,
   "metadata": {
    "collapsed": true
   },
   "outputs": [],
   "source": [
    "dtm = vectorizer.fit_transform(laws_list) \n",
    "#pd.DataFrame(dtm.toarray(), index=laws_names, columns=vectorizer.get_feature_names()).head(10)"
   ]
  },
  {
   "cell_type": "code",
   "execution_count": 317,
   "metadata": {},
   "outputs": [
    {
     "data": {
      "text/plain": [
       "<3896x17274 sparse matrix of type '<class 'numpy.float64'>'\n",
       "\twith 2505068 stored elements in Compressed Sparse Row format>"
      ]
     },
     "execution_count": 317,
     "metadata": {},
     "output_type": "execute_result"
    }
   ],
   "source": [
    "dtm"
   ]
  },
  {
   "cell_type": "code",
   "execution_count": 326,
   "metadata": {
    "collapsed": true
   },
   "outputs": [],
   "source": [
    "num_groups = 20\n",
    "nmf_model = NMF(num_groups )\n",
    "dtm_nmf = nmf_model.fit_transform(dtm)\n",
    "# dtm_nmf = Normalizer(copy=False).fit_transform(dtm_nmf)"
   ]
  },
  {
   "cell_type": "code",
   "execution_count": 327,
   "metadata": {},
   "outputs": [
    {
     "name": "stdout",
     "output_type": "stream",
     "text": [
      "These are the documents extracted from the data and their respective topics:\n",
      "\n",
      "Topic: 0\n",
      "Keywords: office building post office building post facility service located facility united states postal postal service postal reference located building references building approved building note service designation facility designate facility states facility facility referred\n",
      "\n",
      "Topic: 1\n",
      "Keywords: secretary health state program paragraph year fiscal services subsection care research fiscal year subparagraph secretary shall information plan report grant including drug\n",
      "\n",
      "Topic: 2\n",
      "Keywords: courthouse states courthouse courthouse located courthouse note courthouse references courthouse approved courthouse referred street designate united reference designation united states united infrastructure congressional section designation comm transportation located congress designate reference regulation paper record document paper\n",
      "\n",
      "Topic: 3\n",
      "Keywords: inserting striking amended amended striking paragraph title code striking inserting section title subsection code amended subparagraph period extension states code title united october amendments december subsection striking\n",
      "\n",
      "Topic: 4\n",
      "Keywords: land secretary conveyance forest federal land county national forest parcel federal property lands acres exchange wilderness approximately subsection approximately acres conveyed city management\n",
      "\n",
      "Topic: 5\n",
      "Keywords: joint resolution continuing appropriations resolution joint note ante ante note resolved resolution making resolved senate congress joint making continuing continuing appropriations resolved appropriations fiscal year purposes fiscal year fiscal date specified striking date\n",
      "\n",
      "Topic: 6\n",
      "Keywords: post office post facility service located postal facility united states postal postal service reference located office references office approved service office note states facility office designation facility referred designate facility designation facility street\n",
      "\n",
      "Topic: 7\n",
      "Keywords: title code commission person general subsection states code title united federal agency date court information state paragraph section title term employee district chapter\n",
      "\n",
      "Topic: 8\n",
      "Keywords: veterans veterans affairs department veterans affairs clinic department medical outpatient center medical center affairs medical care secretary veterans veteran secretary compensation title dollar medical facility health care\n",
      "\n",
      "Topic: 9\n",
      "Keywords: available provided funds expenses appropriations fiscal remain available fiscal year remain fund shall available year appropriated expended assistance authorized available expended department necessary heading\n",
      "\n",
      "Topic: 10\n",
      "Keywords: commission project federal power licensee construction construction project power energy federal extend energy regulatory extend time extension federal energy license regulatory commission commission shall commencement time hydroelectric\n",
      "\n",
      "Topic: 11\n",
      "Keywords: coins coin commemorative secretary mint issuance design issued surcharge surcharges states code title united prepaid code silver discount sale issued shall title section title\n",
      "\n",
      "Topic: 12\n",
      "Keywords: board regents regents smithsonian institution smithsonian board institution joint resolution appointment resolution joint vacancy board reappointment section revised revised statutes members congress resolved senate congress joint term years vacancy note resolved\n",
      "\n",
      "Topic: 13\n",
      "Keywords: education higher education higher extension education extension student programs students school section higher july educational institution june assistance teacher loan loans eligible institutions\n",
      "\n",
      "Topic: 14\n",
      "Keywords: federal building building federal building located building referred designate federal designation federal reference states federal located infrastructure congressional comm transportation section designation transportation infrastructure street reference regulation known designated building note referred section paper record\n",
      "\n",
      "Topic: 15\n",
      "Keywords: small business small business business investment temporary extension investment temporary extension public stat section small extension programs business administration programs additional loan administration program extension authorization provide additional temporarily\n",
      "\n",
      "Topic: 16\n",
      "Keywords: medal medals gold struck bronze world award strike president duplicate presentation secretary enterprise fund american honor fund design sale national recognition\n",
      "\n",
      "Topic: 17\n",
      "Keywords: defense military department department defense secretary security intelligence secretary defense forces armed report army national armed forces force navy program guard reserve foreign\n",
      "\n",
      "Topic: 18\n",
      "Keywords: water tribe indian river project secretary trust agreement district lands reclamation settlement indian tribe reservation tribal resources tribes water rights rights basin\n",
      "\n",
      "Topic: 19\n",
      "Keywords: national park national park historic site boundary resources secretary national historic study area lands interior natural wildlife secretary interior refuge park service natural resources memorial\n",
      "\n"
     ]
    }
   ],
   "source": [
    "features = vectorizer.get_feature_names()\n",
    "print(\"These are the documents extracted from the data and their respective topics:\")\n",
    "print('')\n",
    "#nmf.components_\n",
    "\n",
    "\n",
    "num_words = 20\n",
    "for topicidx, topic in enumerate(nmf_model.components_):\n",
    "    \n",
    "    print('Topic: ' + str(topicidx))\n",
    "    print(\"Keywords: \" + \" \".join([features[i] for i in topic.argsort()[:-1*num_words-1:-1]]) )# \n",
    "    print('')"
   ]
  },
  {
   "cell_type": "code",
   "execution_count": 328,
   "metadata": {},
   "outputs": [
    {
     "data": {
      "text/plain": [
       "(3896, 20)"
      ]
     },
     "execution_count": 328,
     "metadata": {},
     "output_type": "execute_result"
    }
   ],
   "source": [
    "np.shape(dtm_nmf)"
   ]
  },
  {
   "cell_type": "markdown",
   "metadata": {},
   "source": [
    "__Investigate whether Topics identified match title__"
   ]
  },
  {
   "cell_type": "code",
   "execution_count": 329,
   "metadata": {},
   "outputs": [],
   "source": [
    "def rank_df(df,rank):\n",
    "    coln = 'MAX' + str(rank) \n",
    "    sortID = np.argpartition(\n",
    "        -df[list(np.arange(0,num_groups))].values,rank,axis=1)[:,rank-1]\n",
    "    df[coln] = df.columns[sortID]"
   ]
  },
  {
   "cell_type": "code",
   "execution_count": 330,
   "metadata": {
    "collapsed": true
   },
   "outputs": [],
   "source": [
    "nmf_df = pd.DataFrame(dtm_nmf, index = laws_df.index)"
   ]
  },
  {
   "cell_type": "code",
   "execution_count": 331,
   "metadata": {},
   "outputs": [],
   "source": [
    "rank_df(nmf_df,1)\n",
    "rank_df(nmf_df,2)\n",
    "rank_df(nmf_df,3)\n",
    "nmf_df.reset_index(inplace=True)\n",
    "nmf_df.rename(columns={'index':'id'},inplace=True)"
   ]
  },
  {
   "cell_type": "code",
   "execution_count": 332,
   "metadata": {
    "collapsed": true
   },
   "outputs": [],
   "source": [
    "nmf_df = nmf_df.merge(laws_summarys[['id','title']],on = 'id',how = 'left')"
   ]
  },
  {
   "cell_type": "code",
   "execution_count": 337,
   "metadata": {},
   "outputs": [
    {
     "data": {
      "text/html": [
       "<div>\n",
       "<style>\n",
       "    .dataframe thead tr:only-child th {\n",
       "        text-align: right;\n",
       "    }\n",
       "\n",
       "    .dataframe thead th {\n",
       "        text-align: left;\n",
       "    }\n",
       "\n",
       "    .dataframe tbody tr th {\n",
       "        vertical-align: top;\n",
       "    }\n",
       "</style>\n",
       "<table border=\"1\" class=\"dataframe\">\n",
       "  <thead>\n",
       "    <tr style=\"text-align: right;\">\n",
       "      <th></th>\n",
       "      <th>id</th>\n",
       "      <th>title</th>\n",
       "      <th>MAX1</th>\n",
       "      <th>MAX2</th>\n",
       "      <th>MAX3</th>\n",
       "    </tr>\n",
       "  </thead>\n",
       "  <tbody>\n",
       "    <tr>\n",
       "      <th>1344</th>\n",
       "      <td>c108publ288</td>\n",
       "      <td>H.R.1572 - To designate the United States courthouse located at 100 North Palafox Street in Pens...</td>\n",
       "      <td>2</td>\n",
       "      <td>6</td>\n",
       "      <td>19</td>\n",
       "    </tr>\n",
       "    <tr>\n",
       "      <th>323</th>\n",
       "      <td>c104publ90</td>\n",
       "      <td>H.J.Res.153 - Making further continuing appropriations for the fiscal year 1996, and for other p...</td>\n",
       "      <td>5</td>\n",
       "      <td>9</td>\n",
       "      <td>12</td>\n",
       "    </tr>\n",
       "    <tr>\n",
       "      <th>3894</th>\n",
       "      <td>c115publ8</td>\n",
       "      <td>H.J.Res.40 - Providing for congressional disapproval under chapter 8 of title 5, United States C...</td>\n",
       "      <td>5</td>\n",
       "      <td>12</td>\n",
       "      <td>7</td>\n",
       "    </tr>\n",
       "    <tr>\n",
       "      <th>3757</th>\n",
       "      <td>c114publ298</td>\n",
       "      <td>H.R.5591 - To designate the facility of the United States Postal Service located at 810 N US Hig...</td>\n",
       "      <td>6</td>\n",
       "      <td>8</td>\n",
       "      <td>16</td>\n",
       "    </tr>\n",
       "    <tr>\n",
       "      <th>1926</th>\n",
       "      <td>c109publ363</td>\n",
       "      <td>H.R.4957 - Tylersville Fish Hatchery Conveyance Act                 109th Congress (2005-2006)</td>\n",
       "      <td>19</td>\n",
       "      <td>18</td>\n",
       "      <td>4</td>\n",
       "    </tr>\n",
       "    <tr>\n",
       "      <th>2408</th>\n",
       "      <td>c110publ363</td>\n",
       "      <td>H.R.5872 - Boy Scouts of America Centennial Commemorative Coin Act                 110th Congres...</td>\n",
       "      <td>11</td>\n",
       "      <td>10</td>\n",
       "      <td>9</td>\n",
       "    </tr>\n",
       "    <tr>\n",
       "      <th>655</th>\n",
       "      <td>c105publ39</td>\n",
       "      <td>H.R.1198 - To direct the Secretary of the Interior to convey certain land to the City of Grants ...</td>\n",
       "      <td>4</td>\n",
       "      <td>19</td>\n",
       "      <td>3</td>\n",
       "    </tr>\n",
       "    <tr>\n",
       "      <th>3640</th>\n",
       "      <td>c114publ192</td>\n",
       "      <td>H.R.4372 - To designate the facility of the United States Postal Service located at 15 Rochester...</td>\n",
       "      <td>6</td>\n",
       "      <td>13</td>\n",
       "      <td>10</td>\n",
       "    </tr>\n",
       "    <tr>\n",
       "      <th>3349</th>\n",
       "      <td>c113publ197</td>\n",
       "      <td>S.2583 - E-LABEL Act                 113th Congress (2013-2014)</td>\n",
       "      <td>10</td>\n",
       "      <td>7</td>\n",
       "      <td>16</td>\n",
       "    </tr>\n",
       "    <tr>\n",
       "      <th>1125</th>\n",
       "      <td>c107publ90</td>\n",
       "      <td>H.R.10 - Railroad Retirement and Survivors' Improvement Act of 2001                 107th Congre...</td>\n",
       "      <td>3</td>\n",
       "      <td>7</td>\n",
       "      <td>9</td>\n",
       "    </tr>\n",
       "    <tr>\n",
       "      <th>1464</th>\n",
       "      <td>c108publ396</td>\n",
       "      <td>H.R.4579 - Truman Farm Home Expansion Act                 108th Congress (2003-2004)</td>\n",
       "      <td>19</td>\n",
       "      <td>4</td>\n",
       "      <td>19</td>\n",
       "    </tr>\n",
       "    <tr>\n",
       "      <th>939</th>\n",
       "      <td>c107publ262</td>\n",
       "      <td>H.R.670 - To designate the facility of the United States Postal Service located at 7 Commercial ...</td>\n",
       "      <td>0</td>\n",
       "      <td>6</td>\n",
       "      <td>0</td>\n",
       "    </tr>\n",
       "    <tr>\n",
       "      <th>2560</th>\n",
       "      <td>c110publ86</td>\n",
       "      <td>H.R.3528 - To provide authority to the Peace Corps to provide separation pay for host country re...</td>\n",
       "      <td>9</td>\n",
       "      <td>16</td>\n",
       "      <td>1</td>\n",
       "    </tr>\n",
       "    <tr>\n",
       "      <th>1266</th>\n",
       "      <td>c108publ217</td>\n",
       "      <td>H.R.4062 - To provide for an additional temporary extension of programs under the Small Business...</td>\n",
       "      <td>15</td>\n",
       "      <td>1</td>\n",
       "      <td>1</td>\n",
       "    </tr>\n",
       "    <tr>\n",
       "      <th>2447</th>\n",
       "      <td>c110publ399</td>\n",
       "      <td>H.R.6874 - To designate the facility of the United States Postal Service located at 156 Taunton ...</td>\n",
       "      <td>0</td>\n",
       "      <td>10</td>\n",
       "      <td>15</td>\n",
       "    </tr>\n",
       "    <tr>\n",
       "      <th>822</th>\n",
       "      <td>c107publ157</td>\n",
       "      <td>H.R.1499 - District of Columbia College Access Improvement Act of 2002                 107th Con...</td>\n",
       "      <td>13</td>\n",
       "      <td>9</td>\n",
       "      <td>13</td>\n",
       "    </tr>\n",
       "    <tr>\n",
       "      <th>119</th>\n",
       "      <td>c104publ206</td>\n",
       "      <td>H.R.3816 - Energy and Water Development Appropriations Act, 1997                 104th Congress ...</td>\n",
       "      <td>9</td>\n",
       "      <td>18</td>\n",
       "      <td>10</td>\n",
       "    </tr>\n",
       "    <tr>\n",
       "      <th>1437</th>\n",
       "      <td>c108publ371</td>\n",
       "      <td>S.2896 - A bill to modify and extend certain privatization requirements of the Communications Sa...</td>\n",
       "      <td>10</td>\n",
       "      <td>7</td>\n",
       "      <td>3</td>\n",
       "    </tr>\n",
       "    <tr>\n",
       "      <th>391</th>\n",
       "      <td>c105publ151</td>\n",
       "      <td>H.J.Res.96 - Granting the consent and approval of Congress for the State of Maryland, the Common...</td>\n",
       "      <td>7</td>\n",
       "      <td>12</td>\n",
       "      <td>18</td>\n",
       "    </tr>\n",
       "    <tr>\n",
       "      <th>3296</th>\n",
       "      <td>c113publ149</td>\n",
       "      <td>H.R.2291 - To designate the facility of the United States Postal Service located at 450 Lexingto...</td>\n",
       "      <td>6</td>\n",
       "      <td>0</td>\n",
       "      <td>6</td>\n",
       "    </tr>\n",
       "  </tbody>\n",
       "</table>\n",
       "</div>"
      ],
      "text/plain": [
       "               id  \\\n",
       "1344  c108publ288   \n",
       "323    c104publ90   \n",
       "3894    c115publ8   \n",
       "3757  c114publ298   \n",
       "1926  c109publ363   \n",
       "2408  c110publ363   \n",
       "655    c105publ39   \n",
       "3640  c114publ192   \n",
       "3349  c113publ197   \n",
       "1125   c107publ90   \n",
       "1464  c108publ396   \n",
       "939   c107publ262   \n",
       "2560   c110publ86   \n",
       "1266  c108publ217   \n",
       "2447  c110publ399   \n",
       "822   c107publ157   \n",
       "119   c104publ206   \n",
       "1437  c108publ371   \n",
       "391   c105publ151   \n",
       "3296  c113publ149   \n",
       "\n",
       "                                                                                                    title  \\\n",
       "1344  H.R.1572 - To designate the United States courthouse located at 100 North Palafox Street in Pens...   \n",
       "323   H.J.Res.153 - Making further continuing appropriations for the fiscal year 1996, and for other p...   \n",
       "3894  H.J.Res.40 - Providing for congressional disapproval under chapter 8 of title 5, United States C...   \n",
       "3757  H.R.5591 - To designate the facility of the United States Postal Service located at 810 N US Hig...   \n",
       "1926       H.R.4957 - Tylersville Fish Hatchery Conveyance Act                 109th Congress (2005-2006)   \n",
       "2408  H.R.5872 - Boy Scouts of America Centennial Commemorative Coin Act                 110th Congres...   \n",
       "655   H.R.1198 - To direct the Secretary of the Interior to convey certain land to the City of Grants ...   \n",
       "3640  H.R.4372 - To designate the facility of the United States Postal Service located at 15 Rochester...   \n",
       "3349                                      S.2583 - E-LABEL Act                 113th Congress (2013-2014)   \n",
       "1125  H.R.10 - Railroad Retirement and Survivors' Improvement Act of 2001                 107th Congre...   \n",
       "1464                 H.R.4579 - Truman Farm Home Expansion Act                 108th Congress (2003-2004)   \n",
       "939   H.R.670 - To designate the facility of the United States Postal Service located at 7 Commercial ...   \n",
       "2560  H.R.3528 - To provide authority to the Peace Corps to provide separation pay for host country re...   \n",
       "1266  H.R.4062 - To provide for an additional temporary extension of programs under the Small Business...   \n",
       "2447  H.R.6874 - To designate the facility of the United States Postal Service located at 156 Taunton ...   \n",
       "822   H.R.1499 - District of Columbia College Access Improvement Act of 2002                 107th Con...   \n",
       "119   H.R.3816 - Energy and Water Development Appropriations Act, 1997                 104th Congress ...   \n",
       "1437  S.2896 - A bill to modify and extend certain privatization requirements of the Communications Sa...   \n",
       "391   H.J.Res.96 - Granting the consent and approval of Congress for the State of Maryland, the Common...   \n",
       "3296  H.R.2291 - To designate the facility of the United States Postal Service located at 450 Lexingto...   \n",
       "\n",
       "      MAX1 MAX2 MAX3  \n",
       "1344     2    6   19  \n",
       "323      5    9   12  \n",
       "3894     5   12    7  \n",
       "3757     6    8   16  \n",
       "1926    19   18    4  \n",
       "2408    11   10    9  \n",
       "655      4   19    3  \n",
       "3640     6   13   10  \n",
       "3349    10    7   16  \n",
       "1125     3    7    9  \n",
       "1464    19    4   19  \n",
       "939      0    6    0  \n",
       "2560     9   16    1  \n",
       "1266    15    1    1  \n",
       "2447     0   10   15  \n",
       "822     13    9   13  \n",
       "119      9   18   10  \n",
       "1437    10    7    3  \n",
       "391      7   12   18  \n",
       "3296     6    0    6  "
      ]
     },
     "execution_count": 337,
     "metadata": {},
     "output_type": "execute_result"
    }
   ],
   "source": [
    "pd.options.display.max_colwidth = 100\n",
    "nmf_df[['id','title','MAX1','MAX2','MAX3']].iloc[\n",
    "    np.random.choice(np.arange(0,len(laws_list)),size = 20,replace = False)]"
   ]
  },
  {
   "cell_type": "code",
   "execution_count": null,
   "metadata": {},
   "outputs": [],
   "source": []
  },
  {
   "cell_type": "code",
   "execution_count": null,
   "metadata": {
    "collapsed": true
   },
   "outputs": [],
   "source": []
  },
  {
   "cell_type": "markdown",
   "metadata": {},
   "source": [
    "## Try LSA too! ... but for now, try clustering on what I have"
   ]
  },
  {
   "cell_type": "code",
   "execution_count": null,
   "metadata": {},
   "outputs": [],
   "source": []
  },
  {
   "cell_type": "code",
   "execution_count": null,
   "metadata": {
    "collapsed": true
   },
   "outputs": [],
   "source": []
  },
  {
   "cell_type": "code",
   "execution_count": null,
   "metadata": {
    "collapsed": true
   },
   "outputs": [],
   "source": []
  },
  {
   "cell_type": "code",
   "execution_count": null,
   "metadata": {
    "collapsed": true
   },
   "outputs": [],
   "source": []
  },
  {
   "cell_type": "code",
   "execution_count": null,
   "metadata": {
    "collapsed": true
   },
   "outputs": [],
   "source": []
  }
 ],
 "metadata": {
  "kernelspec": {
   "display_name": "Python 3",
   "language": "python",
   "name": "python3"
  },
  "language_info": {
   "codemirror_mode": {
    "name": "ipython",
    "version": 3
   },
   "file_extension": ".py",
   "mimetype": "text/x-python",
   "name": "python",
   "nbconvert_exporter": "python",
   "pygments_lexer": "ipython3",
   "version": "3.6.1"
  }
 },
 "nbformat": 4,
 "nbformat_minor": 2
}
