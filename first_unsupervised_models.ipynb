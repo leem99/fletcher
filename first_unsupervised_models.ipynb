{
 "cells": [
  {
   "cell_type": "markdown",
   "metadata": {},
   "source": [
    "### Unsupervised Analysis of Congressional Laws"
   ]
  },
  {
   "cell_type": "code",
   "execution_count": 1,
   "metadata": {},
   "outputs": [
    {
     "name": "stderr",
     "output_type": "stream",
     "text": [
      "Using TensorFlow backend.\n"
     ]
    }
   ],
   "source": [
    "import numpy as np\n",
    "import pandas as pd\n",
    "\n",
    "import matplotlib.pyplot as plt\n",
    "%matplotlib inline\n",
    "\n",
    "\n",
    "#gensim\n",
    "from gensim import corpora, models, similarities, matutils\n",
    "\n",
    "#sklearn\n",
    "from sklearn.feature_extraction.text import (CountVectorizer, \n",
    "                                             TfidfTransformer,\n",
    "                                             TfidfVectorizer)\n",
    "from sklearn.cluster import KMeans\n",
    "from sklearn.decomposition import (NMF,\n",
    "                                   TruncatedSVD)\n",
    "from sklearn.preprocessing import Normalizer\n",
    "from sklearn.manifold import TSNE"
   ]
  },
  {
   "cell_type": "markdown",
   "metadata": {},
   "source": [
    "__Import data__"
   ]
  },
  {
   "cell_type": "code",
   "execution_count": 2,
   "metadata": {
    "collapsed": true
   },
   "outputs": [],
   "source": [
    "laws_df = pd.read_csv('all_laws.csv',index_col=0)"
   ]
  },
  {
   "cell_type": "code",
   "execution_count": 3,
   "metadata": {
    "collapsed": true
   },
   "outputs": [],
   "source": [
    "laws_names = list(laws_df.index)\n",
    "laws_list = laws_df['text'].tolist()"
   ]
  },
  {
   "cell_type": "markdown",
   "metadata": {},
   "source": [
    "__Import Law Summary Data__"
   ]
  },
  {
   "cell_type": "code",
   "execution_count": 4,
   "metadata": {
    "collapsed": true
   },
   "outputs": [],
   "source": [
    "laws_summarys = pd.read_csv('laws_summary.csv')"
   ]
  },
  {
   "cell_type": "markdown",
   "metadata": {},
   "source": [
    "__ Import Custom Stop Words__"
   ]
  },
  {
   "cell_type": "code",
   "execution_count": 5,
   "metadata": {
    "collapsed": true
   },
   "outputs": [],
   "source": [
    "custom_stopwords_df = pd.read_csv('custom_stopwords_more.csv')\n",
    "custom_sw = frozenset(custom_stopwords_df.iloc[:,1])"
   ]
  },
  {
   "cell_type": "code",
   "execution_count": 6,
   "metadata": {},
   "outputs": [
    {
     "data": {
      "text/plain": [
       "frozenset({'a',\n",
       "           'about',\n",
       "           'above',\n",
       "           'across',\n",
       "           'after',\n",
       "           'afterwards',\n",
       "           'again',\n",
       "           'against',\n",
       "           'all',\n",
       "           'almost',\n",
       "           'alone',\n",
       "           'along',\n",
       "           'already',\n",
       "           'also',\n",
       "           'although',\n",
       "           'always',\n",
       "           'am',\n",
       "           'amended',\n",
       "           'among',\n",
       "           'amongst',\n",
       "           'amoungst',\n",
       "           'amount',\n",
       "           'an',\n",
       "           'and',\n",
       "           'another',\n",
       "           'ante',\n",
       "           'any',\n",
       "           'anyhow',\n",
       "           'anyone',\n",
       "           'anything',\n",
       "           'anyway',\n",
       "           'anywhere',\n",
       "           'april',\n",
       "           'are',\n",
       "           'around',\n",
       "           'as',\n",
       "           'at',\n",
       "           'august',\n",
       "           'back',\n",
       "           'be',\n",
       "           'became',\n",
       "           'because',\n",
       "           'become',\n",
       "           'becomes',\n",
       "           'becoming',\n",
       "           'been',\n",
       "           'before',\n",
       "           'beforehand',\n",
       "           'behind',\n",
       "           'being',\n",
       "           'below',\n",
       "           'beside',\n",
       "           'besides',\n",
       "           'between',\n",
       "           'beyond',\n",
       "           'bill',\n",
       "           'both',\n",
       "           'bottom',\n",
       "           'but',\n",
       "           'by',\n",
       "           'c',\n",
       "           'call',\n",
       "           'can',\n",
       "           'cannot',\n",
       "           'cant',\n",
       "           'co',\n",
       "           'code',\n",
       "           'con',\n",
       "           'could',\n",
       "           'couldnt',\n",
       "           'cry',\n",
       "           'de',\n",
       "           'december',\n",
       "           'describe',\n",
       "           'detail',\n",
       "           'do',\n",
       "           'docid',\n",
       "           'done',\n",
       "           'down',\n",
       "           'due',\n",
       "           'during',\n",
       "           'each',\n",
       "           'eg',\n",
       "           'eight',\n",
       "           'either',\n",
       "           'eleven',\n",
       "           'else',\n",
       "           'elsewhere',\n",
       "           'empty',\n",
       "           'enough',\n",
       "           'etc',\n",
       "           'even',\n",
       "           'ever',\n",
       "           'every',\n",
       "           'everyone',\n",
       "           'everything',\n",
       "           'everywhere',\n",
       "           'except',\n",
       "           'february',\n",
       "           'few',\n",
       "           'fifteen',\n",
       "           'fifty',\n",
       "           'fill',\n",
       "           'find',\n",
       "           'fire',\n",
       "           'first',\n",
       "           'five',\n",
       "           'for',\n",
       "           'former',\n",
       "           'formerly',\n",
       "           'forty',\n",
       "           'found',\n",
       "           'four',\n",
       "           'from',\n",
       "           'front',\n",
       "           'full',\n",
       "           'further',\n",
       "           'get',\n",
       "           'give',\n",
       "           'go',\n",
       "           'had',\n",
       "           'has',\n",
       "           'hasnt',\n",
       "           'have',\n",
       "           'he',\n",
       "           'hence',\n",
       "           'her',\n",
       "           'here',\n",
       "           'hereafter',\n",
       "           'hereby',\n",
       "           'herein',\n",
       "           'hereupon',\n",
       "           'hers',\n",
       "           'herself',\n",
       "           'him',\n",
       "           'himself',\n",
       "           'his',\n",
       "           'how',\n",
       "           'however',\n",
       "           'hundred',\n",
       "           'i',\n",
       "           'ie',\n",
       "           'if',\n",
       "           'ii',\n",
       "           'iii',\n",
       "           'in',\n",
       "           'inc',\n",
       "           'indeed',\n",
       "           'inserting',\n",
       "           'interest',\n",
       "           'into',\n",
       "           'is',\n",
       "           'it',\n",
       "           'its',\n",
       "           'itself',\n",
       "           'iv',\n",
       "           'ix',\n",
       "           'january',\n",
       "           'july',\n",
       "           'june',\n",
       "           'keep',\n",
       "           'l',\n",
       "           'last',\n",
       "           'latter',\n",
       "           'latterly',\n",
       "           'least',\n",
       "           'less',\n",
       "           'li',\n",
       "           'lii',\n",
       "           'liii',\n",
       "           'liv',\n",
       "           'lix',\n",
       "           'ltd',\n",
       "           'lv',\n",
       "           'lvi',\n",
       "           'lvii',\n",
       "           'lviii',\n",
       "           'lx',\n",
       "           'lxi',\n",
       "           'lxii',\n",
       "           'lxiii',\n",
       "           'lxiv',\n",
       "           'lxix',\n",
       "           'lxv',\n",
       "           'lxvi',\n",
       "           'lxvii',\n",
       "           'lxviii',\n",
       "           'lxx',\n",
       "           'lxxi',\n",
       "           'lxxii',\n",
       "           'lxxiii',\n",
       "           'lxxiv',\n",
       "           'lxxix',\n",
       "           'lxxv',\n",
       "           'lxxvi',\n",
       "           'lxxvii',\n",
       "           'lxxviii',\n",
       "           'lxxx',\n",
       "           'lxxxi',\n",
       "           'lxxxii',\n",
       "           'lxxxiii',\n",
       "           'lxxxiv',\n",
       "           'lxxxix',\n",
       "           'lxxxv',\n",
       "           'lxxxvi',\n",
       "           'lxxxvii',\n",
       "           'lxxxviii',\n",
       "           'made',\n",
       "           'many',\n",
       "           'march',\n",
       "           'may',\n",
       "           'me',\n",
       "           'meanwhile',\n",
       "           'might',\n",
       "           'mill',\n",
       "           'mine',\n",
       "           'more',\n",
       "           'moreover',\n",
       "           'most',\n",
       "           'mostly',\n",
       "           'move',\n",
       "           'much',\n",
       "           'must',\n",
       "           'my',\n",
       "           'myself',\n",
       "           'name',\n",
       "           'namely',\n",
       "           'neither',\n",
       "           'never',\n",
       "           'nevertheless',\n",
       "           'next',\n",
       "           'nine',\n",
       "           'no',\n",
       "           'nobody',\n",
       "           'none',\n",
       "           'noone',\n",
       "           'nor',\n",
       "           'not',\n",
       "           'nothing',\n",
       "           'november',\n",
       "           'now',\n",
       "           'nowhere',\n",
       "           'october',\n",
       "           'of',\n",
       "           'off',\n",
       "           'often',\n",
       "           'on',\n",
       "           'once',\n",
       "           'one',\n",
       "           'only',\n",
       "           'onto',\n",
       "           'or',\n",
       "           'other',\n",
       "           'others',\n",
       "           'otherwise',\n",
       "           'our',\n",
       "           'ours',\n",
       "           'ourselves',\n",
       "           'out',\n",
       "           'over',\n",
       "           'own',\n",
       "           'paragraph',\n",
       "           'paragraphs',\n",
       "           'part',\n",
       "           'per',\n",
       "           'perhaps',\n",
       "           'please',\n",
       "           'put',\n",
       "           'rather',\n",
       "           're',\n",
       "           'res',\n",
       "           'same',\n",
       "           'sec',\n",
       "           'section',\n",
       "           'sections',\n",
       "           'see',\n",
       "           'seem',\n",
       "           'seemed',\n",
       "           'seeming',\n",
       "           'seems',\n",
       "           'september',\n",
       "           'seq',\n",
       "           'serious',\n",
       "           'several',\n",
       "           'she',\n",
       "           'should',\n",
       "           'show',\n",
       "           'side',\n",
       "           'since',\n",
       "           'sincere',\n",
       "           'six',\n",
       "           'sixty',\n",
       "           'so',\n",
       "           'some',\n",
       "           'somehow',\n",
       "           'someone',\n",
       "           'something',\n",
       "           'sometime',\n",
       "           'sometimes',\n",
       "           'somewhere',\n",
       "           'still',\n",
       "           'striking',\n",
       "           'subparagraph',\n",
       "           'subsection',\n",
       "           'subsections',\n",
       "           'such',\n",
       "           'system',\n",
       "           'take',\n",
       "           'ten',\n",
       "           'than',\n",
       "           'that',\n",
       "           'the',\n",
       "           'their',\n",
       "           'them',\n",
       "           'themselves',\n",
       "           'then',\n",
       "           'thence',\n",
       "           'there',\n",
       "           'thereafter',\n",
       "           'thereby',\n",
       "           'therefore',\n",
       "           'therein',\n",
       "           'thereupon',\n",
       "           'these',\n",
       "           'they',\n",
       "           'thick',\n",
       "           'thin',\n",
       "           'third',\n",
       "           'this',\n",
       "           'those',\n",
       "           'though',\n",
       "           'three',\n",
       "           'through',\n",
       "           'throughout',\n",
       "           'thru',\n",
       "           'thus',\n",
       "           'title',\n",
       "           'to',\n",
       "           'together',\n",
       "           'too',\n",
       "           'top',\n",
       "           'toward',\n",
       "           'towards',\n",
       "           'twelve',\n",
       "           'twenty',\n",
       "           'two',\n",
       "           'un',\n",
       "           'under',\n",
       "           'until',\n",
       "           'up',\n",
       "           'upon',\n",
       "           'us',\n",
       "           'usc',\n",
       "           'v',\n",
       "           'very',\n",
       "           'vi',\n",
       "           'via',\n",
       "           'vii',\n",
       "           'viii',\n",
       "           'was',\n",
       "           'we',\n",
       "           'well',\n",
       "           'were',\n",
       "           'what',\n",
       "           'whatever',\n",
       "           'when',\n",
       "           'whence',\n",
       "           'whenever',\n",
       "           'where',\n",
       "           'whereafter',\n",
       "           'whereas',\n",
       "           'whereby',\n",
       "           'wherein',\n",
       "           'whereupon',\n",
       "           'wherever',\n",
       "           'whether',\n",
       "           'which',\n",
       "           'while',\n",
       "           'whither',\n",
       "           'who',\n",
       "           'whoever',\n",
       "           'whole',\n",
       "           'whom',\n",
       "           'whose',\n",
       "           'why',\n",
       "           'will',\n",
       "           'with',\n",
       "           'within',\n",
       "           'without',\n",
       "           'would',\n",
       "           'x',\n",
       "           'xc',\n",
       "           'xci',\n",
       "           'xcii',\n",
       "           'xciii',\n",
       "           'xciv',\n",
       "           'xcix',\n",
       "           'xcv',\n",
       "           'xcvi',\n",
       "           'xcvii',\n",
       "           'xcviii',\n",
       "           'xi',\n",
       "           'xii',\n",
       "           'xiii',\n",
       "           'xiv',\n",
       "           'xix',\n",
       "           'xl',\n",
       "           'xli',\n",
       "           'xlii',\n",
       "           'xliii',\n",
       "           'xliv',\n",
       "           'xlix',\n",
       "           'xlv',\n",
       "           'xlvi',\n",
       "           'xlvii',\n",
       "           'xlviii',\n",
       "           'xv',\n",
       "           'xvi',\n",
       "           'xvii',\n",
       "           'xviii',\n",
       "           'xx',\n",
       "           'xxi',\n",
       "           'xxii',\n",
       "           'xxiii',\n",
       "           'xxiv',\n",
       "           'xxix',\n",
       "           'xxv',\n",
       "           'xxvi',\n",
       "           'xxvii',\n",
       "           'xxviii',\n",
       "           'xxx',\n",
       "           'xxxi',\n",
       "           'xxxii',\n",
       "           'xxxiii',\n",
       "           'xxxiv',\n",
       "           'xxxix',\n",
       "           'xxxv',\n",
       "           'xxxvi',\n",
       "           'xxxvii',\n",
       "           'xxxviii',\n",
       "           'yet',\n",
       "           'you',\n",
       "           'your',\n",
       "           'yours',\n",
       "           'yourself',\n",
       "           'yourselves'})"
      ]
     },
     "execution_count": 6,
     "metadata": {},
     "output_type": "execute_result"
    }
   ],
   "source": [
    "custom_sw"
   ]
  },
  {
   "cell_type": "markdown",
   "metadata": {},
   "source": [
    "__Count Vectorizer__"
   ]
  },
  {
   "cell_type": "code",
   "execution_count": 7,
   "metadata": {},
   "outputs": [
    {
     "ename": "KeyboardInterrupt",
     "evalue": "",
     "output_type": "error",
     "traceback": [
      "\u001b[0;31m---------------------------------------------------------------------------\u001b[0m",
      "\u001b[0;31mKeyboardInterrupt\u001b[0m                         Traceback (most recent call last)",
      "\u001b[0;32m<ipython-input-7-fb0a0e7e989a>\u001b[0m in \u001b[0;36m<module>\u001b[0;34m()\u001b[0m\n\u001b[1;32m      4\u001b[0m                                    \u001b[0mmax_df\u001b[0m\u001b[0;34m=\u001b[0m\u001b[0;36m0.8\u001b[0m\u001b[0;34m,\u001b[0m\u001b[0;34m\u001b[0m\u001b[0m\n\u001b[1;32m      5\u001b[0m                                    min_df = 50)\n\u001b[0;32m----> 6\u001b[0;31m \u001b[0mcount_vectorizer\u001b[0m\u001b[0;34m.\u001b[0m\u001b[0mfit\u001b[0m\u001b[0;34m(\u001b[0m\u001b[0mlaws_list\u001b[0m\u001b[0;34m)\u001b[0m\u001b[0;34m\u001b[0m\u001b[0m\n\u001b[0m\u001b[1;32m      7\u001b[0m \u001b[0;34m\u001b[0m\u001b[0m\n",
      "\u001b[0;32m/anaconda/lib/python3.6/site-packages/sklearn/feature_extraction/text.py\u001b[0m in \u001b[0;36mfit\u001b[0;34m(self, raw_documents, y)\u001b[0m\n\u001b[1;32m    804\u001b[0m         \u001b[0mself\u001b[0m\u001b[0;34m\u001b[0m\u001b[0m\n\u001b[1;32m    805\u001b[0m         \"\"\"\n\u001b[0;32m--> 806\u001b[0;31m         \u001b[0mself\u001b[0m\u001b[0;34m.\u001b[0m\u001b[0mfit_transform\u001b[0m\u001b[0;34m(\u001b[0m\u001b[0mraw_documents\u001b[0m\u001b[0;34m)\u001b[0m\u001b[0;34m\u001b[0m\u001b[0m\n\u001b[0m\u001b[1;32m    807\u001b[0m         \u001b[0;32mreturn\u001b[0m \u001b[0mself\u001b[0m\u001b[0;34m\u001b[0m\u001b[0m\n\u001b[1;32m    808\u001b[0m \u001b[0;34m\u001b[0m\u001b[0m\n",
      "\u001b[0;32m/anaconda/lib/python3.6/site-packages/sklearn/feature_extraction/text.py\u001b[0m in \u001b[0;36mfit_transform\u001b[0;34m(self, raw_documents, y)\u001b[0m\n\u001b[1;32m    837\u001b[0m \u001b[0;34m\u001b[0m\u001b[0m\n\u001b[1;32m    838\u001b[0m         vocabulary, X = self._count_vocab(raw_documents,\n\u001b[0;32m--> 839\u001b[0;31m                                           self.fixed_vocabulary_)\n\u001b[0m\u001b[1;32m    840\u001b[0m \u001b[0;34m\u001b[0m\u001b[0m\n\u001b[1;32m    841\u001b[0m         \u001b[0;32mif\u001b[0m \u001b[0mself\u001b[0m\u001b[0;34m.\u001b[0m\u001b[0mbinary\u001b[0m\u001b[0;34m:\u001b[0m\u001b[0;34m\u001b[0m\u001b[0m\n",
      "\u001b[0;32m/anaconda/lib/python3.6/site-packages/sklearn/feature_extraction/text.py\u001b[0m in \u001b[0;36m_count_vocab\u001b[0;34m(self, raw_documents, fixed_vocab)\u001b[0m\n\u001b[1;32m    760\u001b[0m         \u001b[0;32mfor\u001b[0m \u001b[0mdoc\u001b[0m \u001b[0;32min\u001b[0m \u001b[0mraw_documents\u001b[0m\u001b[0;34m:\u001b[0m\u001b[0;34m\u001b[0m\u001b[0m\n\u001b[1;32m    761\u001b[0m             \u001b[0mfeature_counter\u001b[0m \u001b[0;34m=\u001b[0m \u001b[0;34m{\u001b[0m\u001b[0;34m}\u001b[0m\u001b[0;34m\u001b[0m\u001b[0m\n\u001b[0;32m--> 762\u001b[0;31m             \u001b[0;32mfor\u001b[0m \u001b[0mfeature\u001b[0m \u001b[0;32min\u001b[0m \u001b[0manalyze\u001b[0m\u001b[0;34m(\u001b[0m\u001b[0mdoc\u001b[0m\u001b[0;34m)\u001b[0m\u001b[0;34m:\u001b[0m\u001b[0;34m\u001b[0m\u001b[0m\n\u001b[0m\u001b[1;32m    763\u001b[0m                 \u001b[0;32mtry\u001b[0m\u001b[0;34m:\u001b[0m\u001b[0;34m\u001b[0m\u001b[0m\n\u001b[1;32m    764\u001b[0m                     \u001b[0mfeature_idx\u001b[0m \u001b[0;34m=\u001b[0m \u001b[0mvocabulary\u001b[0m\u001b[0;34m[\u001b[0m\u001b[0mfeature\u001b[0m\u001b[0;34m]\u001b[0m\u001b[0;34m\u001b[0m\u001b[0m\n",
      "\u001b[0;32m/anaconda/lib/python3.6/site-packages/sklearn/feature_extraction/text.py\u001b[0m in \u001b[0;36m<lambda>\u001b[0;34m(doc)\u001b[0m\n\u001b[1;32m    239\u001b[0m \u001b[0;34m\u001b[0m\u001b[0m\n\u001b[1;32m    240\u001b[0m             return lambda doc: self._word_ngrams(\n\u001b[0;32m--> 241\u001b[0;31m                 tokenize(preprocess(self.decode(doc))), stop_words)\n\u001b[0m\u001b[1;32m    242\u001b[0m \u001b[0;34m\u001b[0m\u001b[0m\n\u001b[1;32m    243\u001b[0m         \u001b[0;32melse\u001b[0m\u001b[0;34m:\u001b[0m\u001b[0;34m\u001b[0m\u001b[0m\n",
      "\u001b[0;32m/anaconda/lib/python3.6/site-packages/sklearn/feature_extraction/text.py\u001b[0m in \u001b[0;36m_word_ngrams\u001b[0;34m(self, tokens, stop_words)\u001b[0m\n\u001b[1;32m    138\u001b[0m             for n in xrange(min_n,\n\u001b[1;32m    139\u001b[0m                             min(max_n + 1, n_original_tokens + 1)):\n\u001b[0;32m--> 140\u001b[0;31m                 \u001b[0;32mfor\u001b[0m \u001b[0mi\u001b[0m \u001b[0;32min\u001b[0m \u001b[0mxrange\u001b[0m\u001b[0;34m(\u001b[0m\u001b[0mn_original_tokens\u001b[0m \u001b[0;34m-\u001b[0m \u001b[0mn\u001b[0m \u001b[0;34m+\u001b[0m \u001b[0;36m1\u001b[0m\u001b[0;34m)\u001b[0m\u001b[0;34m:\u001b[0m\u001b[0;34m\u001b[0m\u001b[0m\n\u001b[0m\u001b[1;32m    141\u001b[0m                     \u001b[0mtokens\u001b[0m\u001b[0;34m.\u001b[0m\u001b[0mappend\u001b[0m\u001b[0;34m(\u001b[0m\u001b[0;34m\" \"\u001b[0m\u001b[0;34m.\u001b[0m\u001b[0mjoin\u001b[0m\u001b[0;34m(\u001b[0m\u001b[0moriginal_tokens\u001b[0m\u001b[0;34m[\u001b[0m\u001b[0mi\u001b[0m\u001b[0;34m:\u001b[0m \u001b[0mi\u001b[0m \u001b[0;34m+\u001b[0m \u001b[0mn\u001b[0m\u001b[0;34m]\u001b[0m\u001b[0;34m)\u001b[0m\u001b[0;34m)\u001b[0m\u001b[0;34m\u001b[0m\u001b[0m\n\u001b[1;32m    142\u001b[0m \u001b[0;34m\u001b[0m\u001b[0m\n",
      "\u001b[0;31mKeyboardInterrupt\u001b[0m: "
     ]
    }
   ],
   "source": [
    "count_vectorizer = CountVectorizer(ngram_range=(0, 2),  \n",
    "                                   stop_words='english', \n",
    "                                   token_pattern=\"\\\\b[a-z][a-z]{3,100}\\\\b\",\n",
    "                                   max_df=0.8,\n",
    "                                   min_df = 50)\n",
    "count_vectorizer.fit(laws_list)\n",
    "\n"
   ]
  },
  {
   "cell_type": "code",
   "execution_count": null,
   "metadata": {
    "collapsed": true
   },
   "outputs": [],
   "source": [
    "# Create the term-document matrix\n",
    "# Transpose it so the terms are the rows\n",
    "counts = count_vectorizer.transform(laws_list).transpose()"
   ]
  },
  {
   "cell_type": "code",
   "execution_count": null,
   "metadata": {},
   "outputs": [],
   "source": [
    "np.shape(counts)"
   ]
  },
  {
   "cell_type": "markdown",
   "metadata": {},
   "source": [
    "__Convert to gensim__\n",
    "\n",
    "We need to convert our sparse `scipy` matrix to a `gensim`-friendly object called a Corpus:"
   ]
  },
  {
   "cell_type": "code",
   "execution_count": null,
   "metadata": {
    "collapsed": true
   },
   "outputs": [],
   "source": [
    "# Convert sparse matrix of counts to a gensim corpus\n",
    "corpus = matutils.Sparse2Corpus(counts)"
   ]
  },
  {
   "cell_type": "markdown",
   "metadata": {},
   "source": [
    "__Map matrix rows to words (tokens)__\n",
    "\n",
    "We need to save a mapping (dict) of row id to word (token) for later use by gensim:"
   ]
  },
  {
   "cell_type": "code",
   "execution_count": null,
   "metadata": {
    "collapsed": true
   },
   "outputs": [],
   "source": [
    "id2word = dict((v, k) for k, v in count_vectorizer.vocabulary_.items())"
   ]
  },
  {
   "cell_type": "code",
   "execution_count": null,
   "metadata": {},
   "outputs": [],
   "source": [
    "len(id2word)"
   ]
  },
  {
   "cell_type": "markdown",
   "metadata": {},
   "source": [
    "## LDA\n",
    "At this point we can simply plow ahead in creating an LDA model.  It requires our corpus of word counts, mapping of row ids to words, and the number of topics (3)."
   ]
  },
  {
   "cell_type": "code",
   "execution_count": null,
   "metadata": {
    "collapsed": true
   },
   "outputs": [],
   "source": [
    "# Create lda model (equivalent to \"fit\" in sklearn)\n",
    "lda = models.LdaModel(corpus=corpus, num_topics=5, id2word=id2word, passes=3)"
   ]
  },
  {
   "cell_type": "code",
   "execution_count": null,
   "metadata": {},
   "outputs": [],
   "source": [
    "lda.print_topics(num_words=20)"
   ]
  },
  {
   "cell_type": "code",
   "execution_count": null,
   "metadata": {},
   "outputs": [],
   "source": [
    "# Transform the docs from the word space to the topic space (like \"transform\" in sklearn)\n",
    "lda_corpus = lda[corpus]\n",
    "lda_corpus"
   ]
  },
  {
   "cell_type": "code",
   "execution_count": null,
   "metadata": {
    "collapsed": true
   },
   "outputs": [],
   "source": [
    "# Store the documents' topic vectors in a list so we can take a peak\n",
    "lda_docs = [doc for doc in lda_corpus]"
   ]
  },
  {
   "cell_type": "code",
   "execution_count": null,
   "metadata": {},
   "outputs": [],
   "source": [
    "len(lda_docs)"
   ]
  },
  {
   "cell_type": "code",
   "execution_count": null,
   "metadata": {},
   "outputs": [],
   "source": [
    "lda_docs[900]"
   ]
  },
  {
   "cell_type": "markdown",
   "metadata": {},
   "source": [
    "## NMF"
   ]
  },
  {
   "cell_type": "code",
   "execution_count": 8,
   "metadata": {
    "collapsed": true
   },
   "outputs": [],
   "source": [
    "vectorizer = TfidfVectorizer(ngram_range=(1,2),  \n",
    "                                   stop_words = custom_sw, \n",
    "                                   token_pattern=\"\\\\b[a-z][a-z]{2,100}\\\\b\",\n",
    "                                   max_df = 0.90,\n",
    "                                   min_df = 50)"
   ]
  },
  {
   "cell_type": "code",
   "execution_count": 9,
   "metadata": {
    "collapsed": true
   },
   "outputs": [],
   "source": [
    "dtm = vectorizer.fit_transform(laws_list) \n",
    "#pd.DataFrame(dtm.toarray(), index=laws_names, columns=vectorizer.get_feature_names()).head(10)"
   ]
  },
  {
   "cell_type": "code",
   "execution_count": 10,
   "metadata": {},
   "outputs": [
    {
     "data": {
      "text/plain": [
       "<3896x16774 sparse matrix of type '<class 'numpy.float64'>'\n",
       "\twith 2398375 stored elements in Compressed Sparse Row format>"
      ]
     },
     "execution_count": 10,
     "metadata": {},
     "output_type": "execute_result"
    }
   ],
   "source": [
    "dtm"
   ]
  },
  {
   "cell_type": "code",
   "execution_count": 11,
   "metadata": {
    "collapsed": true
   },
   "outputs": [],
   "source": [
    "num_groups = 20\n",
    "nmf_model = NMF(num_groups )\n",
    "dtm_nmf = nmf_model.fit_transform(dtm)\n",
    "dtm_nmf = Normalizer(copy=False).fit_transform(dtm_nmf)"
   ]
  },
  {
   "cell_type": "code",
   "execution_count": 12,
   "metadata": {
    "scrolled": false
   },
   "outputs": [
    {
     "name": "stdout",
     "output_type": "stream",
     "text": [
      "These are the documents extracted from the data and their respective topics:\n",
      "\n",
      "Topic: 0\n",
      "Keywords: post office post facility service located postal facility united postal service states postal reference located office references office approved service office note office designation states facility facility referred designate facility designation facility street\n",
      "\n",
      "Topic: 1\n",
      "Keywords: health secretary program fiscal state year services care education fiscal year shall research secretary shall public health grant programs assistance health service drug eligible\n",
      "\n",
      "Topic: 2\n",
      "Keywords: courthouse states courthouse courthouse located courthouse note courthouse references courthouse approved courthouse referred street designate united reference designation united assembled designation infrastructure congressional comm transportation states united located act designate regulation document reference law map regulation\n",
      "\n",
      "Topic: 3\n",
      "Keywords: land secretary conveyance forest federal land national forest county parcel federal property shall lands acres wilderness exchange approximately approximately acres conveyed city map\n",
      "\n",
      "Topic: 4\n",
      "Keywords: joint resolution continuing appropriations resolution joint resolution making resolved senate congress joint making continuing continuing appropriations resolved appropriations fiscal year purposes fiscal year fiscal date specified lieu thereof year note lieu house senate\n",
      "\n",
      "Topic: 5\n",
      "Keywords: available provided funds expenses shall appropriations remain available remain shall available fiscal fund fiscal year expended appropriated assistance year available expended authorized department necessary\n",
      "\n",
      "Topic: 6\n",
      "Keywords: veterans veterans affairs affairs department veterans clinic department medical outpatient medical center center affairs medical secretary veterans compensation care veteran secretary dollar medical facility dollar amounts dependency\n",
      "\n",
      "Topic: 7\n",
      "Keywords: office building post office building post facility service located facility united states postal postal service postal reference located building approved building references building note service designation facility designate facility facility referred states facility\n",
      "\n",
      "Topic: 8\n",
      "Keywords: commission project power act federal power licensee construction construction project power energy extend federal extend time energy regulatory extension federal energy license regulatory commission commencement time commission shall\n",
      "\n",
      "Topic: 9\n",
      "Keywords: shall date tax taxable individual year apply income period amendments following effective shall apply end respect plan general taxable year case clause\n",
      "\n",
      "Topic: 10\n",
      "Keywords: coins coin commemorative secretary mint shall issuance design act shall issued surcharge issued act surcharges prepaid silver discount sale numismatic secretary shall numismatic items\n",
      "\n",
      "Topic: 11\n",
      "Keywords: extension airport extension act period fiscal airport airway airway period beginning beginning ending fiscal year aviation ending transportation year beginning stat stat trust fund airway trust program federal aviation\n",
      "\n",
      "Topic: 12\n",
      "Keywords: board regents regents smithsonian institution smithsonian board institution joint resolution appointment resolution vacancy board joint reappointment revised statutes members congress resolved senate congress joint term years vacancy filled expiration term\n",
      "\n",
      "Topic: 13\n",
      "Keywords: national park national park historic boundary site resources national historic secretary study area lands wildlife interior natural secretary interior refuge park service natural resources comm\n",
      "\n",
      "Topic: 14\n",
      "Keywords: federal building building federal building located building referred designate federal designation federal reference states federal located infrastructure congressional comm transportation assembled designation transportation infrastructure street map regulation regulation document law map reference law known designated\n",
      "\n",
      "Topic: 15\n",
      "Keywords: small business small business business act temporary extension business investment investment act act small investment extension temporary law stat programs extension programs business administration act extend loan additional program effect approved\n",
      "\n",
      "Topic: 16\n",
      "Keywords: defense military department defense secretary department secretary defense forces armed army air armed forces force navy air force construction reserve report national security military construction\n",
      "\n",
      "Topic: 17\n",
      "Keywords: water tribe indian river project secretary trust agreement district settlement indian tribe lands reclamation reservation tribal resources tribes water rights basin rights\n",
      "\n",
      "Topic: 18\n",
      "Keywords: medal medals gold struck war world bronze award president strike duplicate presentation american enterprise fund honor secretary fund design sale national\n",
      "\n",
      "Topic: 19\n",
      "Keywords: shall information commission agency federal state general security report committee person intelligence term president director foreign including administrator enforcement international\n",
      "\n"
     ]
    }
   ],
   "source": [
    "features = vectorizer.get_feature_names()\n",
    "print(\"These are the documents extracted from the data and their respective topics:\")\n",
    "print('')\n",
    "#nmf.components_\n",
    "\n",
    "\n",
    "num_words = 20\n",
    "for topicidx, topic in enumerate(nmf_model.components_):\n",
    "    \n",
    "    print('Topic: ' + str(topicidx))\n",
    "    print(\"Keywords: \" + \" \".join([features[i] for i in topic.argsort()[:-1*num_words-1:-1]]) )# \n",
    "    print('')"
   ]
  },
  {
   "cell_type": "markdown",
   "metadata": {},
   "source": [
    "__Investigate whether Topics identified match title__"
   ]
  },
  {
   "cell_type": "code",
   "execution_count": 13,
   "metadata": {
    "collapsed": true
   },
   "outputs": [],
   "source": [
    "def rank_df(df,rank,num_groups):\n",
    "    coln = 'MAX' + str(rank) \n",
    "    sortID = np.argpartition(\n",
    "        -df[list(np.arange(0,num_groups))].values,rank,axis=1)[:,rank-1]\n",
    "    df[coln] = df.columns[sortID]"
   ]
  },
  {
   "cell_type": "code",
   "execution_count": 14,
   "metadata": {
    "collapsed": true
   },
   "outputs": [],
   "source": [
    "nmf_df = pd.DataFrame(dtm_nmf, index = laws_df.index)\n",
    "\n",
    "rank_df(nmf_df,1,num_groups)\n",
    "rank_df(nmf_df,2,num_groups)\n",
    "rank_df(nmf_df,3,num_groups)\n",
    "nmf_df.reset_index(inplace=True)\n",
    "nmf_df.rename(columns={'index':'id'},inplace=True)\n",
    "\n",
    "nmf_df = nmf_df.merge(laws_summarys[['id','title']],on = 'id',how = 'left')"
   ]
  },
  {
   "cell_type": "code",
   "execution_count": 15,
   "metadata": {},
   "outputs": [
    {
     "data": {
      "text/html": [
       "<div>\n",
       "<style>\n",
       "    .dataframe thead tr:only-child th {\n",
       "        text-align: right;\n",
       "    }\n",
       "\n",
       "    .dataframe thead th {\n",
       "        text-align: left;\n",
       "    }\n",
       "\n",
       "    .dataframe tbody tr th {\n",
       "        vertical-align: top;\n",
       "    }\n",
       "</style>\n",
       "<table border=\"1\" class=\"dataframe\">\n",
       "  <thead>\n",
       "    <tr style=\"text-align: right;\">\n",
       "      <th></th>\n",
       "      <th>id</th>\n",
       "      <th>title</th>\n",
       "      <th>MAX1</th>\n",
       "      <th>MAX2</th>\n",
       "      <th>MAX3</th>\n",
       "    </tr>\n",
       "  </thead>\n",
       "  <tbody>\n",
       "    <tr>\n",
       "      <th>3076</th>\n",
       "      <td>c112publ205</td>\n",
       "      <td>H.R.915 - Jaime Zapata Border Enforcement Security Task Force Act                 112th Congress...</td>\n",
       "      <td>19</td>\n",
       "      <td>16</td>\n",
       "      <td>13</td>\n",
       "    </tr>\n",
       "    <tr>\n",
       "      <th>1441</th>\n",
       "      <td>c108publ375</td>\n",
       "      <td>H.R.4200 - Ronald W. Reagan National Defense Authorization Act for Fiscal Year 2005             ...</td>\n",
       "      <td>16</td>\n",
       "      <td>1</td>\n",
       "      <td>3</td>\n",
       "    </tr>\n",
       "    <tr>\n",
       "      <th>2421</th>\n",
       "      <td>c110publ375</td>\n",
       "      <td>S.2482 - A bill to repeal the provision of title 46, United States Code, requiring a license for...</td>\n",
       "      <td>15</td>\n",
       "      <td>8</td>\n",
       "      <td>13</td>\n",
       "    </tr>\n",
       "    <tr>\n",
       "      <th>3719</th>\n",
       "      <td>c114publ263</td>\n",
       "      <td>S.818 - A bill to amend the Grand Ronde Reservation Act to make technical corrections, and for o...</td>\n",
       "      <td>3</td>\n",
       "      <td>17</td>\n",
       "      <td>11</td>\n",
       "    </tr>\n",
       "    <tr>\n",
       "      <th>2890</th>\n",
       "      <td>c111publ383</td>\n",
       "      <td>H.R.6523 - Ike Skelton National Defense Authorization Act for Fiscal Year 2011                 1...</td>\n",
       "      <td>16</td>\n",
       "      <td>1</td>\n",
       "      <td>19</td>\n",
       "    </tr>\n",
       "    <tr>\n",
       "      <th>323</th>\n",
       "      <td>c104publ90</td>\n",
       "      <td>H.J.Res.153 - Making further continuing appropriations for the fiscal year 1996, and for other p...</td>\n",
       "      <td>4</td>\n",
       "      <td>5</td>\n",
       "      <td>12</td>\n",
       "    </tr>\n",
       "    <tr>\n",
       "      <th>997</th>\n",
       "      <td>c107publ314</td>\n",
       "      <td>H.R.4546 - Bob Stump National Defense Authorization Act for Fiscal Year 2003                 107...</td>\n",
       "      <td>16</td>\n",
       "      <td>1</td>\n",
       "      <td>3</td>\n",
       "    </tr>\n",
       "    <tr>\n",
       "      <th>2551</th>\n",
       "      <td>c110publ78</td>\n",
       "      <td>S.375 - A bill to waive application of the Indian Self-Determination and Education Assistance Ac...</td>\n",
       "      <td>17</td>\n",
       "      <td>3</td>\n",
       "      <td>5</td>\n",
       "    </tr>\n",
       "    <tr>\n",
       "      <th>1903</th>\n",
       "      <td>c109publ342</td>\n",
       "      <td>H.R.1556 - To designate a parcel of land located on the site of the Thomas F. Eagleton United St...</td>\n",
       "      <td>2</td>\n",
       "      <td>3</td>\n",
       "      <td>3</td>\n",
       "    </tr>\n",
       "    <tr>\n",
       "      <th>2091</th>\n",
       "      <td>c109publ78</td>\n",
       "      <td>H.R.2132 - To extend the waiver authority of the Secretary of Education with respect to student ...</td>\n",
       "      <td>11</td>\n",
       "      <td>15</td>\n",
       "      <td>8</td>\n",
       "    </tr>\n",
       "  </tbody>\n",
       "</table>\n",
       "</div>"
      ],
      "text/plain": [
       "               id  \\\n",
       "3076  c112publ205   \n",
       "1441  c108publ375   \n",
       "2421  c110publ375   \n",
       "3719  c114publ263   \n",
       "2890  c111publ383   \n",
       "323    c104publ90   \n",
       "997   c107publ314   \n",
       "2551   c110publ78   \n",
       "1903  c109publ342   \n",
       "2091   c109publ78   \n",
       "\n",
       "                                                                                                    title  \\\n",
       "3076  H.R.915 - Jaime Zapata Border Enforcement Security Task Force Act                 112th Congress...   \n",
       "1441  H.R.4200 - Ronald W. Reagan National Defense Authorization Act for Fiscal Year 2005             ...   \n",
       "2421  S.2482 - A bill to repeal the provision of title 46, United States Code, requiring a license for...   \n",
       "3719  S.818 - A bill to amend the Grand Ronde Reservation Act to make technical corrections, and for o...   \n",
       "2890  H.R.6523 - Ike Skelton National Defense Authorization Act for Fiscal Year 2011                 1...   \n",
       "323   H.J.Res.153 - Making further continuing appropriations for the fiscal year 1996, and for other p...   \n",
       "997   H.R.4546 - Bob Stump National Defense Authorization Act for Fiscal Year 2003                 107...   \n",
       "2551  S.375 - A bill to waive application of the Indian Self-Determination and Education Assistance Ac...   \n",
       "1903  H.R.1556 - To designate a parcel of land located on the site of the Thomas F. Eagleton United St...   \n",
       "2091  H.R.2132 - To extend the waiver authority of the Secretary of Education with respect to student ...   \n",
       "\n",
       "      MAX1 MAX2 MAX3  \n",
       "3076    19   16   13  \n",
       "1441    16    1    3  \n",
       "2421    15    8   13  \n",
       "3719     3   17   11  \n",
       "2890    16    1   19  \n",
       "323      4    5   12  \n",
       "997     16    1    3  \n",
       "2551    17    3    5  \n",
       "1903     2    3    3  \n",
       "2091    11   15    8  "
      ]
     },
     "execution_count": 15,
     "metadata": {},
     "output_type": "execute_result"
    }
   ],
   "source": [
    "# Random View of Laws\n",
    "pd.options.display.max_colwidth = 100\n",
    "nmf_df[['id','title','MAX1','MAX2','MAX3']].iloc[\n",
    "    np.random.choice(np.arange(0,len(laws_list)),\n",
    "                     size = 10,\n",
    "                     replace = False)]"
   ]
  },
  {
   "cell_type": "markdown",
   "metadata": {},
   "source": [
    "## Try LSA too!"
   ]
  },
  {
   "cell_type": "code",
   "execution_count": null,
   "metadata": {
    "collapsed": true
   },
   "outputs": [],
   "source": [
    "vectorizer2 = TfidfVectorizer(\n",
    "    ngram_range=(1,2),  \n",
    "    stop_words = custom_sw, \n",
    "    token_pattern=\"\\\\b[a-z][a-z]{2,100}\\\\b\",\n",
    "    max_df = 0.80,\n",
    "    min_df = 50)\n",
    "\n",
    "dtm2 = vectorizer2.fit_transform(laws_list) "
   ]
  },
  {
   "cell_type": "code",
   "execution_count": null,
   "metadata": {
    "collapsed": true
   },
   "outputs": [],
   "source": [
    "# Fit LSA. Use algorithm = “randomized” for large datasets \n",
    "\n",
    "num_groups2 = 15\n",
    "lsa_model = TruncatedSVD(num_groups2, algorithm = 'randomized')\n",
    "dtm_lsa = lsa_model.fit_transform(dtm2)\n",
    "dtm_lsa = Normalizer(copy=False).fit_transform(dtm_lsa)"
   ]
  },
  {
   "cell_type": "code",
   "execution_count": null,
   "metadata": {},
   "outputs": [],
   "source": [
    "features = vectorizer2.get_feature_names()\n",
    "print(\"These are the documents extracted from the data and their respective topics:\")\n",
    "print('')\n",
    "#nmf.components_\n",
    "\n",
    "\n",
    "num_words = 20\n",
    "for topicidx, topic in enumerate(lsa_model.components_):\n",
    "    \n",
    "    print('Topic: ' + str(topicidx))\n",
    "    print(\"Keywords: \" + \" \".join([features[i] for i in topic.argsort()[:-1*num_words-1:-1]]) )# \n",
    "    print('')"
   ]
  },
  {
   "cell_type": "code",
   "execution_count": null,
   "metadata": {
    "collapsed": true
   },
   "outputs": [],
   "source": [
    "lsa_df = pd.DataFrame(dtm_lsa, index = laws_df.index)"
   ]
  },
  {
   "cell_type": "code",
   "execution_count": null,
   "metadata": {
    "collapsed": true
   },
   "outputs": [],
   "source": [
    "rank_df(lsa_df,1,num_groups=num_groups2)\n",
    "rank_df(lsa_df,2,num_groups=num_groups2)\n",
    "rank_df(lsa_df,3,num_groups=num_groups2)\n",
    "lsa_df.reset_index(inplace=True)\n",
    "lsa_df.rename(columns={'index':'id'},inplace=True)\n",
    "\n",
    "lsa_df = lsa_df.merge(laws_summarys[['id','title']],on = 'id',how = 'left')"
   ]
  },
  {
   "cell_type": "code",
   "execution_count": null,
   "metadata": {},
   "outputs": [],
   "source": [
    "# Random View of Laws\n",
    "pd.options.display.max_colwidth = 100\n",
    "nmf_df[['id','title','MAX1','MAX2','MAX3']].iloc[\n",
    "    np.random.choice(np.arange(0,len(laws_list)),\n",
    "                     size = 10,\n",
    "                     replace = False)]"
   ]
  },
  {
   "cell_type": "markdown",
   "metadata": {},
   "source": [
    "__TSNE Visualization (NMF)__"
   ]
  },
  {
   "cell_type": "code",
   "execution_count": 16,
   "metadata": {},
   "outputs": [
    {
     "data": {
      "text/plain": [
       "(3896, 20)"
      ]
     },
     "execution_count": 16,
     "metadata": {},
     "output_type": "execute_result"
    }
   ],
   "source": [
    "np.shape(dtm_nmf)"
   ]
  },
  {
   "cell_type": "code",
   "execution_count": 17,
   "metadata": {},
   "outputs": [
    {
     "name": "stdout",
     "output_type": "stream",
     "text": [
      "[t-SNE] Computing pairwise distances...\n",
      "[t-SNE] Computing 151 nearest neighbors...\n",
      "[t-SNE] Computed conditional probabilities for sample 1000 / 3896\n",
      "[t-SNE] Computed conditional probabilities for sample 2000 / 3896\n",
      "[t-SNE] Computed conditional probabilities for sample 3000 / 3896\n",
      "[t-SNE] Computed conditional probabilities for sample 3896 / 3896\n",
      "[t-SNE] Mean sigma: 0.066405\n",
      "[t-SNE] Iteration 25: error = 1.6431534, gradient norm = 0.0017168\n",
      "[t-SNE] Iteration 50: error = 1.7556543, gradient norm = 2.5858803\n",
      "[t-SNE] Iteration 75: error = 1.7874308, gradient norm = 45773.9257812\n",
      "[t-SNE] Iteration 75: error difference 0.000000. Finished.\n",
      "[t-SNE] KL divergence after 75 iterations with early exaggeration: 1.787431\n",
      "[t-SNE] Iteration 100: error = 1.7874308, gradient norm = 18650173440.0000000\n",
      "[t-SNE] Iteration 100: error difference 0.000000. Finished.\n",
      "[t-SNE] Error after 100 iterations: 1.787431\n"
     ]
    }
   ],
   "source": [
    "tsne_model = TSNE(learning_rate=300,\n",
    "                  perplexity=50,\n",
    "                  early_exaggeration=4.0,\n",
    "                  n_iter=5000,\n",
    "                  verbose=2,\n",
    "                  random_state = 101)\n",
    "\n",
    "tsne_nmf = tsne_model.fit_transform(dtm_nmf)"
   ]
  },
  {
   "cell_type": "code",
   "execution_count": 18,
   "metadata": {},
   "outputs": [
    {
     "data": {
      "image/png": "[encoded data removed]",
      "text/plain": [
       "<matplotlib.figure.Figure at 0x1307303c8>"
      ]
     },
     "metadata": {},
     "output_type": "display_data"
    }
   ],
   "source": [
    "plt.figure(figsize=(12,10))\n",
    "plt.scatter(tsne_nmf[:,0], tsne_nmf[:,1], c=nmf_df.MAX1, cmap=plt.cm.get_cmap(\"tab20\", num_groups))\n",
    "plt.colorbar(ticks=range(num_groups+1))\n",
    "plt.clim(0, num_groups)\n",
    "plt.show()"
   ]
  },
  {
   "cell_type": "markdown",
   "metadata": {
    "collapsed": true
   },
   "source": [
    "__TSNE Visualization (LSA)__"
   ]
  },
  {
   "cell_type": "markdown",
   "metadata": {
    "collapsed": true
   },
   "source": [
    "tsne_model = TSNE(learning_rate=300,\n",
    "                  perplexity=50,\n",
    "                  n_iter=5000,\n",
    "                  verbose=2,random_state = 101)\n",
    "\n",
    "tsne_lsa = tsne_model.fit_transform(dtm_lsa)"
   ]
  },
  {
   "cell_type": "code",
   "execution_count": null,
   "metadata": {},
   "outputs": [],
   "source": [
    "tsne_model = TSNE(learning_rate=200,\n",
    "                  perplexity=50,\n",
    "                  n_iter=5000,\n",
    "                  verbose=2,random_state = 101)\n",
    "\n",
    "tsne_lsa = tsne_model.fit_transform(dtm_lsa)"
   ]
  },
  {
   "cell_type": "code",
   "execution_count": null,
   "metadata": {},
   "outputs": [],
   "source": [
    "plt.figure(figsize=(20,18))\n",
    "plt.scatter(tsne_lsa[:,0],\n",
    "            tsne_lsa[:,1], \n",
    "            c=lsa_df.MAX1, \n",
    "            cmap=plt.cm.get_cmap(\"tab20\",\n",
    "                                 num_groups2))\n",
    "plt.colorbar(ticks=range(num_groups2+1))\n",
    "plt.clim(0, num_groups2)\n",
    "plt.show()"
   ]
  },
  {
   "cell_type": "code",
   "execution_count": null,
   "metadata": {
    "collapsed": true
   },
   "outputs": [],
   "source": []
  },
  {
   "cell_type": "code",
   "execution_count": null,
   "metadata": {
    "collapsed": true
   },
   "outputs": [],
   "source": []
  },
  {
   "cell_type": "code",
   "execution_count": null,
   "metadata": {
    "collapsed": true
   },
   "outputs": [],
   "source": []
  },
  {
   "cell_type": "code",
   "execution_count": null,
   "metadata": {
    "collapsed": true
   },
   "outputs": [],
   "source": []
  }
 ],
 "metadata": {
  "kernelspec": {
   "display_name": "Python 3",
   "language": "python",
   "name": "python3"
  },
  "language_info": {
   "codemirror_mode": {
    "name": "ipython",
    "version": 3
   },
   "file_extension": ".py",
   "mimetype": "text/x-python",
   "name": "python",
   "nbconvert_exporter": "python",
   "pygments_lexer": "ipython3",
   "version": "3.6.1"
  }
 },
 "nbformat": 4,
 "nbformat_minor": 2
}
